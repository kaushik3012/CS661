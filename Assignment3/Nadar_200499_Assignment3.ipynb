{
 "cells": [
  {
   "cell_type": "markdown",
   "metadata": {},
   "source": [
    "# Assignment 3: Visualization with Plotly"
   ]
  },
  {
   "cell_type": "markdown",
   "metadata": {},
   "source": [
    "<b>Course</b>: CS661A - Big Data Visual Analytics<br>\n",
    "<b>Instructor</b>: Dr. Soumya Dutta<br>\n",
    "<br>\n",
    "<b>Name</b>: Kaushik Raj V Nadar<br>\n",
    "<b>Roll No</b>: 200499<br>\n",
    "<b>Department</b>: Biological Sciences \\& Bioengineering<br>\n",
    "<b>Date</b>: 19/03/2023<br>\n",
    "<br>\n",
    "<b>Environment</b>: Python 3.8.10 and Jupyter notebook<br>"
   ]
  },
  {
   "cell_type": "markdown",
   "metadata": {},
   "source": [
    "Importing the required libraries"
   ]
  },
  {
   "cell_type": "code",
   "execution_count": 3,
   "metadata": {},
   "outputs": [],
   "source": [
    "import plotly.graph_objs as go\n",
    "import numpy as np\n",
    "import ipywidgets as widgets\n",
    "from IPython.display import display\n",
    "import vtk"
   ]
  },
  {
   "cell_type": "markdown",
   "metadata": {},
   "source": [
    "Load the data"
   ]
  },
  {
   "cell_type": "code",
   "execution_count": 4,
   "metadata": {},
   "outputs": [],
   "source": [
    "# Load the vti file\n",
    "reader = vtk.vtkXMLImageDataReader()\n",
    "reader.SetFileName(\"Data/mixture.vti\")\n",
    "reader.Update()\n",
    "\n",
    "# Get the vtkImageData object\n",
    "data = reader.GetOutput()\n",
    "\n",
    "# Get the dimensions of the data\n",
    "dims = data.GetDimensions()\n",
    "\n",
    "# Access the scalar values of the data\n",
    "scalar_values = data.GetPointData().GetScalars()\n",
    "\n",
    "# Define the 3D dataset\n",
    "x, y, z = np.mgrid[:dims[0], :dims[1], :dims[2]]\n",
    "numpy_data = np.array(scalar_values)\n",
    "numpy_data = numpy_data.reshape(dims[2], dims[1], dims[0])\n",
    "numpy_data = numpy_data.transpose(2,1,0)\n",
    "values = numpy_data.flatten()"
   ]
  },
  {
   "cell_type": "markdown",
   "metadata": {},
   "source": [
    "Create the Isosurface Plot"
   ]
  },
  {
   "cell_type": "code",
   "execution_count": 5,
   "metadata": {},
   "outputs": [
    {
     "data": {
      "application/vnd.jupyter.widget-view+json": {
       "model_id": "3da009ba2fc64428a3f33a1afd4b7dc2",
       "version_major": 2,
       "version_minor": 0
      },
      "text/plain": [
       "FigureWidget({\n",
       "    'data': [{'cmax': 0.43280163,\n",
       "              'cmin': -0.99355406,\n",
       "              'colorbar': {'thickness': 20},\n",
       "              'colorscale': [[0.0, '#0d0887'], [0.1111111111111111, '#46039f'],\n",
       "                             [0.2222222222222222, '#7201a8'], [0.3333333333333333,\n",
       "                             '#9c179e'], [0.4444444444444444, '#bd3786'],\n",
       "                             [0.5555555555555556, '#d8576b'], [0.6666666666666666,\n",
       "                             '#ed7953'], [0.7777777777777778, '#fb9f3a'],\n",
       "                             [0.8888888888888888, '#fdca26'], [1.0, '#f0f921']],\n",
       "              'isomax': 0,\n",
       "              'isomin': 0,\n",
       "              'showscale': False,\n",
       "              'surface': {'count': 1},\n",
       "              'type': 'isosurface',\n",
       "              'uid': 'f3222557-bb5b-45c5-ac96-aed80818794d',\n",
       "              'value': array([-0.04087147, -0.02041778, -0.0047331 , ..., -0.9426848 , -0.8584828 ,\n",
       "                              -0.72851294], dtype=float32),\n",
       "              'x': array([ 0,  0,  0, ..., 74, 74, 74]),\n",
       "              'y': array([ 0,  0,  0, ..., 74, 74, 74]),\n",
       "              'z': array([ 0,  1,  2, ..., 72, 73, 74])}],\n",
       "    'layout': {'scene': {'xaxis': {'title': {'text': 'X'}},\n",
       "                         'yaxis': {'title': {'text': 'Y'}},\n",
       "                         'zaxis': {'title': {'text': 'Z'}}},\n",
       "               'template': '...',\n",
       "               'title': {'text': 'Isosurface'}}\n",
       "})"
      ]
     },
     "execution_count": 5,
     "metadata": {},
     "output_type": "execute_result"
    }
   ],
   "source": [
    "# Define the isosurface\n",
    "iso_fig = go.FigureWidget(data=go.Isosurface(       \n",
    "        x=x.flatten(),\n",
    "        y=y.flatten(),\n",
    "        z=z.flatten(),\n",
    "        isomin = 0,\n",
    "        isomax = 0,\n",
    "        surface_count=1,    \n",
    "        value=values,\n",
    "        colorbar=dict(thickness=20),    \n",
    "        colorscale=\"plasma\",    \n",
    "        cmin=values.min(),  \n",
    "        cmax=values.max(),      \n",
    "        showscale=False # remove colorbar\n",
    "    )\n",
    ")\n",
    "\n",
    "# Define the layout of the isosurface\n",
    "iso_fig.update_layout(\n",
    "    title='Isosurface',\n",
    "    scene=dict(     \n",
    "        xaxis_title='X',\n",
    "        yaxis_title='Y',\n",
    "        zaxis_title='Z',\n",
    "    )\n",
    ")"
   ]
  },
  {
   "cell_type": "markdown",
   "metadata": {},
   "source": [
    "Create the Histogram Plot"
   ]
  },
  {
   "cell_type": "code",
   "execution_count": null,
   "metadata": {},
   "outputs": [],
   "source": [
    "# Define the histogram\n",
    "hist_fig = go.FigureWidget(\n",
    "    data = go.Histogram(\n",
    "        x=values,\n",
    "        nbinsx = 30,\n",
    "        name='Histogram',\n",
    "        marker_color='rgb(101, 109, 242)',\n",
    "    )\n",
    ")\n",
    "    \n",
    "# Define the layout of the histogram\n",
    "hist_fig.update_layout(\n",
    "    title_text='Histogram',\n",
    "    xaxis_title='Vortex scalar values',\n",
    "    yaxis_title='Frequency',\n",
    "    showlegend=False\n",
    ")"
   ]
  },
  {
   "cell_type": "markdown",
   "metadata": {},
   "source": [
    "Create a Slider for adjusting the isovalue"
   ]
  },
  {
   "cell_type": "code",
   "execution_count": null,
   "metadata": {},
   "outputs": [],
   "source": [
    "# Define the slider\n",
    "slider = widgets.FloatSlider(\n",
    "    min=values.min(), \n",
    "    max=values.max(), \n",
    "    step=0.01, \n",
    "    value=0.0, \n",
    "    description='Isovalue:',\n",
    "    continuous_update=False,\n",
    "    orientation='horizontal',\n",
    "    layout=widgets.Layout(width='50%')\n",
    ")\n",
    "\n",
    "# Define the callback function\n",
    "def update_plot(change):\n",
    "    '''Update the plot when the slider value changes.'''\n",
    "\n",
    "    # Update the isosurface\n",
    "    with iso_fig.batch_update():\n",
    "        iso_fig.data[0].update(\n",
    "            isomin = change['new'],\n",
    "            isomax = change['new'],\n",
    "            value = values\n",
    "        )\n",
    "\n",
    "    # Update the histogram\n",
    "    with hist_fig.batch_update():\n",
    "        hist_fig.data[0].update(\n",
    "            x = values[np.where((values >= change['new']-0.25) & (values <= change['new']+0.25))],\n",
    "            nbinsx = 27\n",
    "        )\n",
    "\n",
    "# Link the slider to the callback function\n",
    "slider.observe(update_plot, 'value')"
   ]
  },
  {
   "cell_type": "markdown",
   "metadata": {},
   "source": [
    "Create a Reset button to reset the isovalue to the default value(=0.0)"
   ]
  },
  {
   "cell_type": "code",
   "execution_count": null,
   "metadata": {},
   "outputs": [],
   "source": [
    "# Define the reset button\n",
    "button = widgets.Button(\n",
    "    description='Reset',\n",
    "    disabled=False,\n",
    "    button_style='info', \n",
    "    tooltip='Reset',\n",
    "    icon='refresh' # (FontAwesome names without the `fa-` prefix)\n",
    ")\n",
    "\n",
    "# Define the reset function\n",
    "def reset_plot(button):\n",
    "    '''Reset the plot to the initial state.'''\n",
    "\n",
    "    slider.disabled = True      # Disable the slider to prevent the callback function from being called\n",
    "    slider.value = 0.0      # Reset the slider value\n",
    "\n",
    "    # Reset the isosurface\n",
    "    with iso_fig.batch_update():\n",
    "        iso_fig.data[0].update(\n",
    "            isomin = 0.0,\n",
    "            isomax = 0.0,\n",
    "            value = values\n",
    "        )\n",
    "    \n",
    "    # Reset the histogram\n",
    "    with hist_fig.batch_update():\n",
    "        hist_fig.data[0].update(\n",
    "            x = values, \n",
    "            nbinsx = 30\n",
    "        )\n",
    "\n",
    "    slider.disabled = False     # Enable the slider again\n",
    "    \n",
    "# Link the button to the reset function\n",
    "button.on_click(reset_plot)"
   ]
  },
  {
   "cell_type": "markdown",
   "metadata": {},
   "source": [
    "Display the interactive interface"
   ]
  },
  {
   "cell_type": "code",
   "execution_count": null,
   "metadata": {
    "scrolled": false
   },
   "outputs": [],
   "source": [
    "# Display the widgets\n",
    "hbox1 = widgets.HBox([slider, button])      # Put the slider and button in a horizontal box\n",
    "hbox2 = widgets.HBox([iso_fig, hist_fig])   # Put the isosurface and histogram in a horizontal box\n",
    "main_box = widgets.VBox([hbox1, hbox2])         # Put the horizontal boxes in a vertical box\n",
    "display(main_box)                           # Display the main box"
   ]
  },
  {
   "cell_type": "code",
   "execution_count": null,
   "metadata": {},
   "outputs": [],
   "source": []
  }
 ],
 "metadata": {
  "kernelspec": {
   "display_name": "Python 3 (ipykernel)",
   "language": "python",
   "name": "python3"
  },
  "language_info": {
   "codemirror_mode": {
    "name": "ipython",
    "version": 3
   },
   "file_extension": ".py",
   "mimetype": "text/x-python",
   "name": "python",
   "nbconvert_exporter": "python",
   "pygments_lexer": "ipython3",
   "version": "3.8.10"
  }
 },
 "nbformat": 4,
 "nbformat_minor": 2
}
